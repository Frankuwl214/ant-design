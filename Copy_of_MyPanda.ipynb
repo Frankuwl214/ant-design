{
  "nbformat": 4,
  "nbformat_minor": 0,
  "metadata": {
    "colab": {
      "name": "Copy of MyPanda.ipynb",
      "private_outputs": true,
      "provenance": [],
      "authorship_tag": "ABX9TyPOsYp1RVIqpTXQ7OTQ5U/k",
      "include_colab_link": true
    },
    "kernelspec": {
      "name": "python3",
      "display_name": "Python 3"
    },
    "language_info": {
      "name": "python"
    }
  },
  "cells": [
    {
      "cell_type": "markdown",
      "metadata": {
        "id": "view-in-github",
        "colab_type": "text"
      },
      "source": [
        "<a href=\"https://colab.research.google.com/github/Frankuwl214/ant-design/blob/master/Copy_of_MyPanda.ipynb\" target=\"_parent\"><img src=\"https://colab.research.google.com/assets/colab-badge.svg\" alt=\"Open In Colab\"/></a>"
      ]
    },
    {
      "cell_type": "code",
      "execution_count": null,
      "metadata": {
        "id": "A-ss97RdqPB9"
      },
      "outputs": [],
      "source": [
        "from pandas import Series,DataFrame\n",
        "import pandas as pd\n",
        "import numpy as np \n",
        "# Create a dictionary with student details \n",
        "student_details = {'Name':['Raj', 'Raj', 'Raj', 'Aravind', 'Aravind', 'Aravind',                             \n",
        " 'John', 'John', 'John', 'Arjun', 'Arjun', 'Arjun'],  \n",
        "                 \n",
        " 'Subject':['Maths', 'Physics', 'Chemistry', 'Maths', 'Physics',                             \n",
        " 'Chemistry', 'Maths', 'Physics', 'Chemistry', 'Maths',                                                           \n",
        " 'Physics', 'Chemistry'],                   \n",
        " 'Marks':[80, 90, 75, 60, 40, 60, 80, 55, 100, 90, 75, 70]  \n",
        "   }\n",
        "# Convert dictionary to a DataFrame\n",
        "df = pd.DataFrame(student_details)\n",
        "print(df)\n"
      ]
    },
    {
      "cell_type": "code",
      "source": [
        "# Create a new column with Marks \n",
        "# ranked in descending order\n",
        "df['Mark_Rank'] = df['Marks'].rank(ascending = 0)"
      ],
      "metadata": {
        "id": "qFpy0InstYnI"
      },
      "execution_count": null,
      "outputs": []
    },
    {
      "cell_type": "code",
      "source": [
        "# Set index to newly created column \n",
        "df = df.set_index('Mark_Rank')\n",
        "print(df)"
      ],
      "metadata": {
        "id": "o19RHfmQtkkM"
      },
      "execution_count": null,
      "outputs": []
    },
    {
      "cell_type": "code",
      "source": [
        "# Sort the DataFrame based on the index \n",
        "df = df.sort_index()\n",
        "print(df)\n"
      ],
      "metadata": {
        "id": "fN_Mc_zJtrUW"
      },
      "execution_count": null,
      "outputs": []
    }
  ]
}