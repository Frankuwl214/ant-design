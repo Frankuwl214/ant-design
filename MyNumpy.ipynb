{
  "nbformat": 4,
  "nbformat_minor": 0,
  "metadata": {
    "colab": {
      "name": "MyNumpy.ipynb",
      "private_outputs": true,
      "provenance": [],
      "authorship_tag": "ABX9TyNBnfc8RuwYkl0g11ssRNgA",
      "include_colab_link": true
    },
    "kernelspec": {
      "name": "python3",
      "display_name": "Python 3"
    },
    "language_info": {
      "name": "python"
    }
  },
  "cells": [
    {
      "cell_type": "markdown",
      "metadata": {
        "id": "view-in-github",
        "colab_type": "text"
      },
      "source": [
        "<a href=\"https://colab.research.google.com/github/Frankuwl214/ant-design/blob/master/MyNumpy.ipynb\" target=\"_parent\"><img src=\"https://colab.research.google.com/assets/colab-badge.svg\" alt=\"Open In Colab\"/></a>"
      ]
    },
    {
      "cell_type": "code",
      "source": [
        ""
      ],
      "metadata": {
        "id": "kg0VUPn_dgSY"
      },
      "execution_count": null,
      "outputs": []
    },
    {
      "cell_type": "code",
      "source": [
        "import numpy as np\n",
        "import math\n",
        "import matplotlib.pyplot as plt\n",
        "\n",
        "#Here, we create the numpy array=> [array z]\n",
        "#Here, we will create numpy array using numpy library and call the array method with the elements \n",
        "z = np.array([\n",
        "              [1,2,3,4,5],\n",
        "              [6,7,8,9,10],\n",
        "              [11,12,13,14,15],\n",
        "              [16,17,18,19,20]\n",
        "]);\n",
        "\n",
        "#2 Here, we create the arrayName => z.shape which will give us the shap of our array, here we get rows and colunms\n",
        "#Here, len(array)will gives us the total length of the array\n",
        "#Below is the print function to the shape of the z numpy array \n",
        "print(z.shape);\n",
        "\n",
        "#Here, we will be printing the lenght of Z \n",
        "print(len(z));\n",
        "# Using the linspace method in numpy \n",
        "#3 Here, we create a array arr which has 10 equal spaced elements between 1 including 5\n",
        "arr = np.linspace(1,5,num=10);\n",
        "\n",
        "#4 Here, we create an array x which hold 1000 evenly spaced values between 0 and 2* pi \n",
        "x = np.linspace(0,2*math.pi, num = 1000);\n",
        "\n",
        "#5 Here, sine values of array x will be generated and stored in a y array\n",
        "y = np.sin(x);\n",
        "\n",
        "#Here,we will plot the currve of the x against y\n",
        "#After this we will add x and y-axis labels \n",
        "plt.xlabel(\"x\")\n",
        "plt.ylabel(\"y\")\n",
        "\n",
        "#Here, we will plot the grid\n",
        "plt.grid()\n",
        "\n",
        "#Here, we will plot \n",
        "plt.plot (x,y,'r')\n",
        "\n",
        "# Here, we show the plot \n",
        "plt.show()\n",
        "\n",
        "                \n",
        "          "
      ],
      "metadata": {
        "id": "5Bp8SwaaaDu9"
      },
      "execution_count": null,
      "outputs": []
    },
    {
      "cell_type": "code",
      "source": [
        ""
      ],
      "metadata": {
        "id": "-jP-FzKWmtiz"
      },
      "execution_count": null,
      "outputs": []
    }
  ]
}