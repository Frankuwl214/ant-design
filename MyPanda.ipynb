{
  "nbformat": 4,
  "nbformat_minor": 0,
  "metadata": {
    "colab": {
      "name": "MyPanda.ipynb",
      "private_outputs": true,
      "provenance": [],
      "authorship_tag": "ABX9TyOntpCmSsL4Wc0Im2r2hfKs",
      "include_colab_link": true
    },
    "kernelspec": {
      "name": "python3",
      "display_name": "Python 3"
    },
    "language_info": {
      "name": "python"
    }
  },
  "cells": [
    {
      "cell_type": "markdown",
      "metadata": {
        "id": "view-in-github",
        "colab_type": "text"
      },
      "source": [
        "<a href=\"https://colab.research.google.com/github/Frankuwl214/ant-design/blob/master/MyPanda.ipynb\" target=\"_parent\"><img src=\"https://colab.research.google.com/assets/colab-badge.svg\" alt=\"Open In Colab\"/></a>"
      ]
    },
    {
      "cell_type": "code",
      "execution_count": null,
      "metadata": {
        "id": "A-ss97RdqPB9"
      },
      "outputs": [],
      "source": [
        "from pandas import Series,DataFrame\n",
        "import pandas as pd\n",
        "import numpy as np \n",
        "# Create a dictionary with student details \n",
        "student_details = {'Name':['Raj', 'Raj', 'Raj', 'Aravind', 'Aravind', 'Aravind',                             \n",
        " 'John', 'John', 'John', 'Arjun', 'Arjun', 'Arjun'],  \n",
        "                 \n",
        " 'Subject':['Maths', 'Physics', 'Chemistry', 'Maths', 'Physics',                             \n",
        " 'Chemistry', 'Maths', 'Physics', 'Chemistry', 'Maths',                                                           \n",
        " 'Physics', 'Chemistry'],                   \n",
        " 'Marks':[80, 90, 75, 60, 40, 60, 80, 55, 100, 90, 75, 70]  \n",
        "   }\n",
        "# Convert dictionary to a DataFrame\n",
        "df = pd.DataFrame(student_details)\n",
        "print(df)\n"
      ]
    },
    {
      "cell_type": "code",
      "source": [
        "# Create a new column with Marks \n",
        "# ranked in descending order\n",
        "df['Mark_Rank'] = df['Marks'].rank(ascending = 0)"
      ],
      "metadata": {
        "id": "qFpy0InstYnI"
      },
      "execution_count": null,
      "outputs": []
    },
    {
      "cell_type": "code",
      "source": [
        "# Set index to newly created column \n",
        "df = df.set_index('Mark_Rank')\n",
        "print(df)"
      ],
      "metadata": {
        "id": "o19RHfmQtkkM"
      },
      "execution_count": null,
      "outputs": []
    },
    {
      "cell_type": "code",
      "source": [
        "# Sort the DataFrame based on the index \n",
        "df = df.sort_index()\n",
        "print(df)\n"
      ],
      "metadata": {
        "id": "fN_Mc_zJtrUW"
      },
      "execution_count": null,
      "outputs": []
    },
    {
      "cell_type": "code",
      "source": [
        "#To conclude; Here, the above printouts shows that Raj and Arjun both have 90 marks each and thus they are ranked 2.5 \n",
        "#This is the average of 2nd and 3rd rank so they both share the two ranks. Here, we can see the same pathern for other marks in our tables.  \n",
        "\n"
      ],
      "metadata": {
        "id": "sBfcaxc2wtbr"
      },
      "execution_count": null,
      "outputs": []
    }
  ]
}