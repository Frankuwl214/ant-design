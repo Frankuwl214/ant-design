{
  "nbformat": 4,
  "nbformat_minor": 0,
  "metadata": {
    "colab": {
      "name": "MyPanda2.ipynb",
      "private_outputs": true,
      "provenance": [],
      "authorship_tag": "ABX9TyPce1O3F2dkTKUtK6bYJn2M",
      "include_colab_link": true
    },
    "kernelspec": {
      "name": "python3",
      "display_name": "Python 3"
    },
    "language_info": {
      "name": "python"
    }
  },
  "cells": [
    {
      "cell_type": "markdown",
      "metadata": {
        "id": "view-in-github",
        "colab_type": "text"
      },
      "source": [
        "<a href=\"https://colab.research.google.com/github/Frankuwl214/ant-design/blob/master/MyPanda2.ipynb\" target=\"_parent\"><img src=\"https://colab.research.google.com/assets/colab-badge.svg\" alt=\"Open In Colab\"/></a>"
      ]
    },
    {
      "cell_type": "code",
      "execution_count": null,
      "metadata": {
        "id": "HJz4tEZVzB0m"
      },
      "outputs": [],
      "source": [
        "import pandas as pd\n",
        "import numpy as np\n",
        "## Here commented out is previous code \n",
        "##raw_data = {\n",
        "####\"Voter_name\" : [\"Geek1\",\"Geek2\",\"Geek3\",\"Geek4\",\"Geek5\",\"Geek6\",\"Geek7\",\"Geek8\"],\n",
        "###\"Voter_age\":[15,23, 25, 9, 67, 54, 42, np.NaN]\n",
        "#}\n",
        "#####df = pd.DataFrame(raw_data, columns=[\"Voter_name\", \"Voter_age\"])\n",
        "# Replication using For Loop\n",
        "#Here, we have the list of Voter_name\n",
        "Voter_name = [\"Geek1\",\"Geek2\",\"Geek3\",\"Geek4\",\"Geek5\",\"Geek6\",\"Geek7\",\"Geek8\"] \n",
        "#list of Voter_id\n",
        "Voter_age = [15,23, 25, 9, 67, 54, 42, np.NaN]\n",
        "#  Here We Create an empty Dataframe \n",
        "df = pd.DataFrame(columns=[\"Voter_name\", \"Voter_age\", \"Vote\"])\n",
        "# Here, can iterate and loop through each value in the voter_name\n",
        "for i in range(len(Voter_name)):\n",
        "# Here, we can see the eligibility criteria of each voter\n",
        "   if(Voter_age[i]>=18):# if older than or equal to 18 is yes \n",
        "     eligibility = \"Yes\"\n",
        "   elif (Voter_age[i]<18):# if younger than 18 is no\n",
        "    eligibility = \"No\"\n",
        "   else: eligibility=\"Not sure\" #otherwise if nothing is set the notsure \n",
        "\n",
        "# adding at the end of dataframe \n",
        "df.loc[len(df.index)] = np.array([Voter_name[i], Voter_age[i], eligibility])\n",
        "\n",
        "#printing the dataframe\n",
        "print(df)\n",
        "print ()\n",
        "#Here, below we can see the implementation:\n",
        "\n"
      ]
    }
  ]
}