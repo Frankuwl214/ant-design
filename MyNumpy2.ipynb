{
  "nbformat": 4,
  "nbformat_minor": 0,
  "metadata": {
    "colab": {
      "name": "MyNumpy2.ipynb",
      "private_outputs": true,
      "provenance": [],
      "authorship_tag": "ABX9TyNZWmosianSiygqhuGzpZxR",
      "include_colab_link": true
    },
    "kernelspec": {
      "name": "python3",
      "display_name": "Python 3"
    },
    "language_info": {
      "name": "python"
    }
  },
  "cells": [
    {
      "cell_type": "markdown",
      "metadata": {
        "id": "view-in-github",
        "colab_type": "text"
      },
      "source": [
        "<a href=\"https://colab.research.google.com/github/Frankuwl214/ant-design/blob/master/MyNumpy2.ipynb\" target=\"_parent\"><img src=\"https://colab.research.google.com/assets/colab-badge.svg\" alt=\"Open In Colab\"/></a>"
      ]
    },
    {
      "cell_type": "code",
      "execution_count": null,
      "metadata": {
        "id": "aWwnEkpddc1L"
      },
      "outputs": [],
      "source": [
        "import numpy as np\n",
        "# Here is the given array \n",
        "# Here is the given array \n",
        "z = np.array([\n",
        "[1, 2, 3, 4, 5],\n",
        "[6, 7, 8, 9, 10],\n",
        "[11, 12, 13, 14, 15],\n",
        "[16, 17, 18, 19, 20]\n",
        "]);\n",
        "#Printing 3rd-row using indexing\n",
        "print(z[2])"
      ]
    },
    {
      "cell_type": "code",
      "source": [
        "import numpy as np\n",
        "#Here is the given array \n",
        "z = np.array([\n",
        "[1, 2, 3, 4, 5],\n",
        "[6, 7, 8, 9, 10],\n",
        "[11, 12, 13, 14, 15],\n",
        "[16, 17, 18, 19, 20]\n",
        "]);\n",
        "#printing 4th column using indexing\n",
        "print(z[:,3])\n"
      ],
      "metadata": {
        "id": "qTYwW8huf-C4"
      },
      "execution_count": null,
      "outputs": []
    },
    {
      "cell_type": "code",
      "source": [
        "import numpy as np\n",
        "#given array \n",
        "z = np.array([\n",
        "[1, 2, 3, 4, 5],\n",
        "[6, 7, 8, 9, 10],\n",
        "[11, 12, 13, 14, 15],\n",
        "[16, 17, 18, 19, 20]\n",
        "]);\n",
        "#creating a mask that is true when the elements of array z are greater than 10\n",
        "mask = z > 10\n",
        "print(mask)"
      ],
      "metadata": {
        "id": "hd9yWA5wg1x-"
      },
      "execution_count": null,
      "outputs": []
    },
    {
      "cell_type": "code",
      "source": [
        "import numpy as np\n",
        "#given array \n",
        "z = np.array([\n",
        "[1, 2, 3, 4, 5],\n",
        "[6, 7, 8, 9, 10],\n",
        "[11, 12, 13, 14, 15],\n",
        "[16, 17, 18, 19, 20]\n",
        "]);\n",
        "#setting elements equal to 5 that are greater than 10\n",
        "z[z > 10] = 5\n",
        "print(z)\n"
      ],
      "metadata": {
        "id": "6Pzhaz16hEAt"
      },
      "execution_count": null,
      "outputs": []
    },
    {
      "cell_type": "code",
      "source": [
        "import numpy as np\n",
        "#given array \n",
        "z = np.array([\n",
        "[1, 2, 3, 4, 5],\n",
        "[6, 7, 8, 9, 10],\n",
        "[11, 12, 13, 14, 15],\n",
        "[16, 17, 18, 19, 20]\n",
        "]);\n",
        "#calculating sum of columns\n",
        "sum_columns=np.sum(z,axis=0)\n",
        "print(sum_columns)"
      ],
      "metadata": {
        "id": "OJWPNitHhUOE"
      },
      "execution_count": null,
      "outputs": []
    },
    {
      "cell_type": "code",
      "source": [
        "import numpy as np\n",
        "#given array \n",
        "z = np.array([\n",
        "[1, 2, 3, 4, 5],\n",
        "[6, 7, 8, 9, 10],\n",
        "[11, 12, 13, 14, 15],\n",
        "[16, 17, 18, 19, 20]\n",
        "]);\n",
        "#calculating sum of columns\n",
        "sum_rows=np.sum(z,axis=1)\n",
        "print(sum_rows)\n"
      ],
      "metadata": {
        "id": "ixUD5PFGkxuB"
      },
      "execution_count": null,
      "outputs": []
    }
  ]
}